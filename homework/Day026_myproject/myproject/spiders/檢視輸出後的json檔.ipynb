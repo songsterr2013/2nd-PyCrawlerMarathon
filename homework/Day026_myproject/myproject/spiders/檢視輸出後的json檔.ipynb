{
 "cells": [
  {
   "cell_type": "code",
   "execution_count": 1,
   "metadata": {},
   "outputs": [],
   "source": [
    "import json"
   ]
  },
  {
   "cell_type": "code",
   "execution_count": 2,
   "metadata": {},
   "outputs": [],
   "source": [
    "with open('output.json','r')as j:\n",
    "    r=json.loads(j.read())"
   ]
  },
  {
   "cell_type": "code",
   "execution_count": 3,
   "metadata": {},
   "outputs": [
    {
     "data": {
      "text/plain": [
       "[{'url': 'https://www.ptt.cc/bbs/Gossiping/M.1584976865.A.AC7.html',\n",
       "  'article_author': 'smallGGgirl (ㄏㄏ)',\n",
       "  'article_title': 'Re: [問卦] 消防員的訓練有多辛苦？',\n",
       "  'article_date': 'Mon Mar 23 23:21:03 2020',\n",
       "  'article_content': '多辛苦我不知道\\n\\n但阿肥工作客戶\\n\\n剛好很多消防員\\n\\n每次幫他們處理因為訓練造成的傷害\\n\\n都可以見識到那久經鍛煉的肉體\\n\\n上次跟幾個聊天\\n\\n才知道原來身材最好的\\n\\n都是特搜隊\\n\\n馬的連我這只喜歡女人的都會覺得很讚\\n\\n如果我是女人一定要選消防員\\n\\n至於遇到的警察\\n\\n大肚伯伯比較多\\n\\n https://www.ptt.cc/bbs/Gossiping/M.1584976865.A.AC7.html',\n",
       "  'ip': '1.200.210.26',\n",
       "  'message_count': {'all': 5, 'count': 2, 'push': 2, 'boo': 0, 'neutral': 3},\n",
       "  'messages': [{'push_tag': '→',\n",
       "    'push_userid': 'Johnnie5334',\n",
       "    'push_content': '肛門',\n",
       "    'push_ipdatetime': '27.242.103.129 03/23 23:21'},\n",
       "   {'push_tag': '→',\n",
       "    'push_userid': 'frommr',\n",
       "    'push_content': '沒洗',\n",
       "    'push_ipdatetime': '219.70.182.75 03/23 23:21'},\n",
       "   {'push_tag': '推',\n",
       "    'push_userid': 'Chieen',\n",
       "    'push_content': '就會',\n",
       "    'push_ipdatetime': '110.30.153.188 03/23 23:22'},\n",
       "   {'push_tag': '推',\n",
       "    'push_userid': 'l1111111',\n",
       "    'push_content': '土石流',\n",
       "    'push_ipdatetime': '36.231.195.220 03/23 23:22'},\n",
       "   {'push_tag': '→',\n",
       "    'push_userid': 'ji394xu3',\n",
       "    'push_content': '因為要衝鋒火場,平常不訓練=到時候送死',\n",
       "    'push_ipdatetime': '1.160.228.92 03/23 23:23'}]}]"
      ]
     },
     "execution_count": 3,
     "metadata": {},
     "output_type": "execute_result"
    }
   ],
   "source": [
    "r"
   ]
  }
 ],
 "metadata": {
  "kernelspec": {
   "display_name": "Python 3",
   "language": "python",
   "name": "python3"
  },
  "language_info": {
   "codemirror_mode": {
    "name": "ipython",
    "version": 3
   },
   "file_extension": ".py",
   "mimetype": "text/x-python",
   "name": "python",
   "nbconvert_exporter": "python",
   "pygments_lexer": "ipython3",
   "version": "3.6.8"
  }
 },
 "nbformat": 4,
 "nbformat_minor": 2
}
