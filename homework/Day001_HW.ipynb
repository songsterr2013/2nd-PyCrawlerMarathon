{
 "cells": [
  {
   "cell_type": "markdown",
   "metadata": {},
   "source": [
    "# 資料來源與檔案存取\n",
    "\n",
    "* 資料來源與取得\n",
    "* 開放資料\n",
    "* 資料儲存格式\n",
    "* Python 存取檔案"
   ]
  },
  {
   "cell_type": "markdown",
   "metadata": {},
   "source": [
    "## 作業目標\n",
    "\n",
    "* 1.（簡答題）檔案、API、爬蟲三種取得資料方式有什麼不同？\n",
    "* 2.（實作）完成一個程式，需滿足下列需求：\n",
    "    * 下載指定檔案到 Data 資料夾，存成檔名 Homework.txt\n",
    "    * 檢查 Data 資料夾是否有 Homework.txt 檔名之檔案\n",
    "    * 將「Hello World」字串覆寫到 Homework.txt 檔案\n",
    "    * 檢查 Homework.txt 檔案字數是否符合 Hello World 字數\n"
   ]
  },
  {
   "cell_type": "markdown",
   "metadata": {},
   "source": [
    "### 1.（簡答題）檔案、API、爬蟲三種取得資料方式有什麼不同？"
   ]
  },
  {
   "cell_type": "markdown",
   "metadata": {},
   "source": [
    "#### 答:\n",
    "檔案、API由資料擁有者主動釋出，而「API」又比「檔案」在取得資料的過程中有更多篩選的空間且提供更人性化的資料搜索界面而爬蟲則是資料擁有者被動公開的，即資料擁有者其實共非主動釋出其權根讓其它人使用，其資料取得方式是從網頁上使用爬蟲程式，將網頁的資料解析所需的部份。通常優先選擇使用前二者，爬蟲為最後手段。"
   ]
  },
  {
   "cell_type": "markdown",
   "metadata": {},
   "source": [
    "### 2.（實作）完成一個程式，需滿足下列需求：\n",
    "    * 下載指定檔案到 Data 資料夾，存成檔名 Homework.txt\n",
    "    * 檢查 Data 資料夾是否有 Homework.txt 檔名之檔案\n",
    "    * 將「Hello World」字串覆寫到 Homework.txt 檔案\n",
    "    * 檢查 Homework.txt 檔案字數是否符合 Hello World 字數\n"
   ]
  },
  {
   "cell_type": "code",
   "execution_count": 64,
   "metadata": {},
   "outputs": [],
   "source": [
    "# 根據需求引入正確的 Library\n",
    "\n",
    "# 個人備註:\n",
    "# OS:調用操作系統命令，來達成建立文件，刪除文件，查詢文件\n",
    "#=============================================================\n",
    "\n",
    "from urllib.request import urlretrieve\n",
    "import os"
   ]
  },
  {
   "cell_type": "code",
   "execution_count": 65,
   "metadata": {},
   "outputs": [
    {
     "name": "stdout",
     "output_type": "stream",
     "text": [
      "寫入成功！\n"
     ]
    }
   ],
   "source": [
    "# 下載檔案到 Data 資料夾，存成檔名 Homework.txt\n",
    "\n",
    "# 個人備註:\n",
    "# os.makedirs創件一個目錄，然後目前這個ipynb檔在哪里，\n",
    "# 他就在「當前同一個目錄」裡創建一個名為Data的資料夾，如果是../Date則在前一層中創建\n",
    "# 創建目錄的code: os.makedirs(path, exist_ok=True)\n",
    "# 然後用urlretrieve來下載檔案，urlretrieve('要下載的檔案','./Data/homework.txt')\n",
    "# try,except則是預防一些預期中的錯誤，如果Try error，那就執行except\n",
    "#=============================================================\n",
    "\n",
    "\n",
    "try:\n",
    "    os.makedirs( './Data', exist_ok=True )\n",
    "    urlretrieve('https://www.w3.org/TR/PNG/iso_8859-1.txt','./Data/homework.txt')\n",
    "    print('寫入成功！')\n",
    "except:\n",
    "    print('發生錯誤！')"
   ]
  },
  {
   "cell_type": "code",
   "execution_count": 66,
   "metadata": {},
   "outputs": [
    {
     "name": "stdout",
     "output_type": "stream",
     "text": [
      "[O] 檢查 Data 資料夾是否有 Homework.txt 檔名之檔案\n"
     ]
    }
   ],
   "source": [
    "# 檢查 Data 資料夾是否有 Homework.txt 檔名之檔案\n",
    "\n",
    "# 個人備註:\n",
    "# 創建一個變數mypath為'.\\Data'\n",
    "# 因為預設位置會是跟 .ipynb 程式相同的目錄，所以'./Data'表示當前目錄中的Data目錄\n",
    "# 然後用if的方式print檢查\n",
    "#=============================================================\n",
    "\n",
    "\n",
    "mypath = ('.\\Data')\n",
    "files =  os.listdir(mypath)\n",
    "\n",
    "\n",
    "if 'homework.txt' in files:\n",
    "    print('[O] 檢查 Data 資料夾是否有 Homework.txt 檔名之檔案')\n",
    "else:\n",
    "    print('[X] 檢查 Data 資料夾是否有 Homework.txt 檔名之檔案')"
   ]
  },
  {
   "cell_type": "code",
   "execution_count": 67,
   "metadata": {},
   "outputs": [
    {
     "name": "stdout",
     "output_type": "stream",
     "text": [
      "homework.txt\n"
     ]
    }
   ],
   "source": [
    "# 檢查 Data 資料夾是否有 Homework.txt 檔名之檔案\n",
    "\n",
    "# 個人備註:\n",
    "# 參考Sample的寫法\n",
    "# 用for的方法print出所有在Data裡面的東西\n",
    "# 因為預設位置會是跟 .ipynb 程式相同的目錄，所以'./Data'表示當前目錄中的Data目錄\n",
    "# 然後每個在Data中的檔案，全部print出來\n",
    "# 打開文件（預設位置會是跟 .ipynb 程式相同的目錄）\n",
    "#=============================================================\n",
    "\n",
    "\n",
    "dirs = os.listdir( './Data' )\n",
    "\n",
    "# 顯示所有文件\n",
    "for i in dirs:\n",
    "    print(i)"
   ]
  },
  {
   "cell_type": "code",
   "execution_count": 68,
   "metadata": {},
   "outputs": [
    {
     "name": "stdout",
     "output_type": "stream",
     "text": [
      "Hello World\n"
     ]
    }
   ],
   "source": [
    "# 將「Hello World」字串覆寫到 Homework.txt 檔案\n",
    "\n",
    "# 個人備註:\n",
    "#WITH基本語法: https://blog.gtwang.org/programming/python-with-context-manager-tutorial/\n",
    "#使用 with 的話，檔案使用完之後就會自動關閉，方便很多。\n",
    "#=============================================================\n",
    "\n",
    "\n",
    "f = 'Hello World'\n",
    "with open(\"./Data/homework.txt\", \"w\") as fh:\n",
    "    fh.write(f)\n",
    "    \n",
    "with open(\"./Data/homework.txt\", \"r\") as fh:\n",
    "        print(fh.read())  "
   ]
  },
  {
   "cell_type": "code",
   "execution_count": 69,
   "metadata": {
    "scrolled": true
   },
   "outputs": [
    {
     "name": "stdout",
     "output_type": "stream",
     "text": [
      "[O] 檢查 homework.txt 檔案字數是否符合 Hello World 字數\n"
     ]
    }
   ],
   "source": [
    "# 檢查 Homework.txt 檔案字數是否符合 Hello World 字數\n",
    "\n",
    "if len('Hello World') == len(f):\n",
    "    print('[O] 檢查 homework.txt 檔案字數是否符合 Hello World 字數')\n",
    "else:\n",
    "    print('[X] 檢查 homework.txt 檔案字數是否符合 Hello World 字數')"
   ]
  },
  {
   "cell_type": "code",
   "execution_count": 63,
   "metadata": {},
   "outputs": [
    {
     "data": {
      "text/plain": [
       "11"
      ]
     },
     "execution_count": 63,
     "metadata": {},
     "output_type": "execute_result"
    }
   ],
   "source": [
    "len(f)"
   ]
  },
  {
   "cell_type": "code",
   "execution_count": null,
   "metadata": {},
   "outputs": [],
   "source": []
  }
 ],
 "metadata": {
  "kernelspec": {
   "display_name": "Python 3",
   "language": "python",
   "name": "python3"
  },
  "language_info": {
   "codemirror_mode": {
    "name": "ipython",
    "version": 3
   },
   "file_extension": ".py",
   "mimetype": "text/x-python",
   "name": "python",
   "nbconvert_exporter": "python",
   "pygments_lexer": "ipython3",
   "version": "3.6.8"
  }
 },
 "nbformat": 4,
 "nbformat_minor": 2
}
